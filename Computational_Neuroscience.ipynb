{
  "nbformat": 4,
  "nbformat_minor": 0,
  "metadata": {
    "colab": {
      "name": "Computational_Neuroscience",
      "provenance": [],
      "collapsed_sections": [],
      "authorship_tag": "ABX9TyMrXqDf7GD6Nh3rcZ4shZgx",
      "include_colab_link": true
    },
    "kernelspec": {
      "name": "python3",
      "display_name": "Python 3"
    },
    "language_info": {
      "name": "python"
    }
  },
  "cells": [
    {
      "cell_type": "markdown",
      "metadata": {
        "id": "view-in-github",
        "colab_type": "text"
      },
      "source": [
        "<a href=\"https://colab.research.google.com/github/lilakhd/Network-and-Graph-Theory-Analysis-of-fMRI-data/blob/main/Computational_Neuroscience.ipynb\" target=\"_parent\"><img src=\"https://colab.research.google.com/assets/colab-badge.svg\" alt=\"Open In Colab\"/></a>"
      ]
    },
    {
      "cell_type": "markdown",
      "metadata": {
        "id": "1Rhb569Hc2f6"
      },
      "source": [
        "**COMPUTATIONAL NEUROSCIENCE**\n",
        "\n",
        "**Date of Submission:** 06.08.2021 \n"
      ]
    },
    {
      "cell_type": "markdown",
      "metadata": {
        "id": "wxwTyJN4UljT"
      },
      "source": [
        "# I. PART (I) - FUNCTIONAL CONNECTIVITY & GRAPH THEORY MEASUREMENTS"
      ]
    },
    {
      "cell_type": "markdown",
      "metadata": {
        "id": "zbWWljl3OrmB"
      },
      "source": [
        "## 1. Importing Libraries & Dependencies for PART I \n",
        "\n"
      ]
    },
    {
      "cell_type": "code",
      "metadata": {
        "id": "NMxr6c3hAdGM"
      },
      "source": [
        "# Basic libraries\n",
        "import numpy as np                \n",
        "import matplotlib.pyplot as plt   \n",
        "import seaborn as sb              \n",
        "from scipy import stats           \n",
        "import zipfile as zf    \n",
        "import pandas as pd          \n",
        "from google.colab import output  \n",
        "\n",
        "# Installing additional libraries *not* included in Google Colab\n",
        "!pip install bctpy                # brain connectivity toolbox to get graph theoretical models\n",
        "!pip install nilearn              # brain network plotting\n",
        "!pip install pyreadr              # reading R.data files\n",
        "\n",
        "# Importing additional libraries\n",
        "import bct as bct                 \n",
        "from nilearn import plotting    \n",
        "import pyreadr                    \n",
        "\n",
        "# Clearing output\n",
        "output.clear()"
      ],
      "execution_count": null,
      "outputs": []
    },
    {
      "cell_type": "markdown",
      "metadata": {
        "id": "ARWtD76YOkeX"
      },
      "source": [
        "## 2. Importing the Dataset From Practical (3)"
      ]
    },
    {
      "cell_type": "markdown",
      "metadata": {
        "id": "lw3LSnDPnYra"
      },
      "source": [
        "The dataset represents resting state fMRI data from a group of healthy participants.\n",
        "The variables in the dataset are:\n",
        "- Functional connectivity,\n",
        "- Age, \n",
        "- Sex,\n",
        "- Scanner site, *and*\n",
        "- Framewise displacement (avg head motion (in mm))."
      ]
    },
    {
      "cell_type": "markdown",
      "metadata": {
        "id": "8A5CWumWm82i"
      },
      "source": [
        "### 2.1 Storing the data"
      ]
    },
    {
      "cell_type": "code",
      "metadata": {
        "id": "1Rqhs1a0Ax9U"
      },
      "source": [
        "# Creating a folder to store the data\n",
        "!mkdir FC\n",
        "\n",
        "# Subsetting to keep only participants who do not move head in scanner\n",
        "!wget -O FC/nspn.fmri.lowmot.RData https://ndownloader.figshare.com/files/20958702\n",
        "\n",
        "# Downloading region coordinates\n",
        "!wget -O FC/fc_coords_mmp_mni.txt https://www.dropbox.com/s/rj73jjlpdrsrkvw\n",
        "\n",
        "# Clearing output\n",
        "output.clear()"
      ],
      "execution_count": null,
      "outputs": []
    },
    {
      "cell_type": "markdown",
      "metadata": {
        "id": "PULxyz1MnHqS"
      },
      "source": [
        "### 2.2 Importing the data"
      ]
    },
    {
      "cell_type": "code",
      "metadata": {
        "id": "JDj8u_FmnoAP"
      },
      "source": [
        "# Storing data directory\n",
        "fc_data_dir = 'FC'\n",
        "\n",
        "# Loading functional connectivity data from RData file\n",
        "fc_r = pyreadr.read_r(fc_data_dir+'/nspn.fmri.lowmot.RData')\n",
        "\n",
        "# Extracting key dataset variables \n",
        "## 1. Functional Connectivity\n",
        "fc = np.asarray(fc_r['fc.lowmot']) \n",
        "## 2. Age                       \n",
        "age_f = np.asarray(fc_r['age.lowmot'],dtype=float)[:,0]\n",
        "## 3. Sex\n",
        "sex_f = np.asarray(fc_r['sex.lowmot'],dtype=str)[:,0]\n",
        "## 4. Scanner Site (3 possible sites)\n",
        "site_f = np.asarray(fc_r['site.lowmot'],dtype=str)[:,0]\n",
        "## 5. Framewise Displacement (= Average head motion (in mm))   \n",
        "fd_f = np.asarray(fc_r['fd.lowmot'],dtype=float)[:,0]\n",
        "## 6. Participant ID     \n",
        "subj_f = np.asarray(fc_r['id.lowmot'],dtype=int)[:,0]     \n",
        "\n",
        "# Regional coordinates\n",
        "fc_coords = np.genfromtxt(fc_data_dir+'/fc_coords_mmp_mni.txt',delimiter=' ')"
      ],
      "execution_count": null,
      "outputs": []
    },
    {
      "cell_type": "markdown",
      "metadata": {
        "id": "SiGIr3G7BwXw"
      },
      "source": [
        "## 3. Combining data into a pandas dataframe"
      ]
    },
    {
      "cell_type": "code",
      "metadata": {
        "id": "4hJX8R1tBu6y",
        "colab": {
          "base_uri": "https://localhost:8080/"
        },
        "outputId": "f6460a64-89af-472e-aa62-dc158bcec30b"
      },
      "source": [
        "# Combining demographic data, site data, and framewise displaceent data into a pandas dataframe\n",
        "df = pd.DataFrame({'age': age_f, 'sex': sex_f, 'site': site_f, 'fd': fd_f, 'subj': subj_f})\n",
        "\n",
        "# Number of duplicate scans\n",
        "dup_min = df.subj.value_counts().min()\n",
        "dup_max = df.subj.value_counts().max()  \n",
        "print(f\"Initially each participant has between {dup_min} and {dup_max} scans included in the dataset\")\n",
        "\n",
        "# Dropping duplicate scans (i.e. multiple scans from same participant to keep only the first scan)\n",
        "df = df.drop_duplicates(subset=['subj'], keep='first')\n",
        "df = df.reset_index(drop=True) # resetting dataframe index\n",
        "print(\"Duplicate scans were dropped and only the first scan for each participant was retained\")\n",
        "\n",
        "# Drop duplicates from FC array (based on index) \n",
        "fc = fc[:,:,df.index]"
      ],
      "execution_count": null,
      "outputs": [
        {
          "output_type": "stream",
          "text": [
            "Initially each participant has between 1 and 3 scans included in the dataset\n",
            "Duplicate scans were dropped and only the first scan for each participant was retained\n"
          ],
          "name": "stdout"
        }
      ]
    },
    {
      "cell_type": "markdown",
      "metadata": {
        "id": "5yH6xz-LruPl"
      },
      "source": [
        "## 4. Inspecting the dataset"
      ]
    },
    {
      "cell_type": "code",
      "metadata": {
        "colab": {
          "base_uri": "https://localhost:8080/"
        },
        "id": "WpmA_NLDYRrW",
        "outputId": "4313ea92-3615-4877-c0ee-598d6a379861"
      },
      "source": [
        "# Visual inspection of first few rows\n",
        "df.head()\n",
        "# Descriptives\n",
        "print(df.describe(include='all')) \n",
        "## Age: M= 19.51, SD = 2.68, Min= 14.65, Max = 25.78\n",
        "## Framewise Displacement: M = 0.072, SD = 0.02, Min = 0.032, Max = 0.13\n",
        "print(\"-------------------\")\n",
        "print(df['sex'].value_counts()) # Sex Distribution by Count\n",
        "print(df['sex'].value_counts(normalize=True)) # Sex Distribution by Proportion\n",
        "print(\"-------------------\")\n",
        "print(df['site'].value_counts()) # Site Distribution by Count\n",
        "print(df['site'].value_counts(normalize=True)) # Site Distribution by Proportion\n"
      ],
      "execution_count": null,
      "outputs": [
        {
          "output_type": "stream",
          "text": [
            "               age     sex  site          fd          subj\n",
            "count   132.000000     132   132  132.000000    132.000000\n",
            "unique         NaN       2     3         NaN           NaN\n",
            "top            NaN  female  wbic         NaN           NaN\n",
            "freq           NaN      71    99         NaN           NaN\n",
            "mean     19.509621     NaN   NaN    0.071610  23009.712121\n",
            "std       2.682228     NaN   NaN    0.020012   9339.240955\n",
            "min      14.650000     NaN   NaN    0.031675  10702.000000\n",
            "25%      17.322500     NaN   NaN    0.056617  13405.750000\n",
            "50%      19.260000     NaN   NaN    0.072767  22194.000000\n",
            "75%      21.537500     NaN   NaN    0.084922  29494.500000\n",
            "max      25.780000     NaN   NaN    0.133742  42689.000000\n",
            "-------------------\n",
            "female    71\n",
            "male      61\n",
            "Name: sex, dtype: int64\n",
            "female    0.537879\n",
            "male      0.462121\n",
            "Name: sex, dtype: float64\n",
            "-------------------\n",
            "wbic    99\n",
            "ucl     23\n",
            "cbsu    10\n",
            "Name: site, dtype: int64\n",
            "wbic    0.750000\n",
            "ucl     0.174242\n",
            "cbsu    0.075758\n",
            "Name: site, dtype: float64\n"
          ],
          "name": "stdout"
        }
      ]
    },
    {
      "cell_type": "markdown",
      "metadata": {
        "id": "LSC4D7vZXmoE"
      },
      "source": [
        "All variables have a count of 132. There are no missing values in any of the variables."
      ]
    },
    {
      "cell_type": "code",
      "metadata": {
        "colab": {
          "base_uri": "https://localhost:8080/"
        },
        "id": "-OvJAIrkAehh",
        "outputId": "6ce29291-5976-42dd-8605-dec41901e0ef"
      },
      "source": [
        "ns_f = df.shape[0]                # number of subjects\n",
        "nr_f = fc.shape[0]                # number of regions\n",
        "triu_f = np.triu_indices(nr_f,1)  # indices of upper triangular elements of matrix\n",
        "\n",
        "print(f\"A total of {ns_f} participants were included in the final dataset\")\n",
        "print(f\"A total of {nr_f} regions were included in the final analysis\")"
      ],
      "execution_count": null,
      "outputs": [
        {
          "output_type": "stream",
          "text": [
            "A total of 132 participants were included in the final dataset\n",
            "A total of 346 regions were included in the final analysis\n"
          ],
          "name": "stdout"
        }
      ]
    },
    {
      "cell_type": "markdown",
      "metadata": {
        "id": "Q9VRGPTFc2PM"
      },
      "source": [
        "## 5. Recoding string variables to integer "
      ]
    },
    {
      "cell_type": "markdown",
      "metadata": {
        "id": "XXTVwMQtUXVJ"
      },
      "source": [
        "This step is a requirement to be able to feed the data to XGBoost algorithm,"
      ]
    },
    {
      "cell_type": "code",
      "metadata": {
        "id": "SKIwJ7IlnulC"
      },
      "source": [
        "# Defining a function to recode sex variable from string to integer\n",
        "def sex_to_numeric(x):\n",
        "        if x=='female': return 1\n",
        "        if x=='male':   return 0\n",
        "\n",
        "# Generating a new sex variable that is recoded\n",
        "df['sex_rec'] = df['sex'].apply(sex_to_numeric)\n",
        "\n",
        "# Defining a function to recode site variable from string to integer\n",
        "def site_to_numeric(x):\n",
        "        if x=='wbic': return 2\n",
        "        if x=='ucl' : return 1\n",
        "        if x=='cbsu': return 0\n",
        "# Generating a new site variable that is recoded\n",
        "df['site_rec'] = df['site'].apply(site_to_numeric)"
      ],
      "execution_count": null,
      "outputs": []
    },
    {
      "cell_type": "markdown",
      "metadata": {
        "id": "J-P2txP7dDD-"
      },
      "source": [
        "# II. Part (II): Functional Connectivity & Graph Theory Measures"
      ]
    },
    {
      "cell_type": "code",
      "metadata": {
        "id": "fYYo9lRA-Nmr"
      },
      "source": [
        "# Creating a variable to store thresholded data\n",
        "fc_thr = np.zeros(fc.shape)\n",
        "\n",
        "# Edge density (10 chosen arbitrarily)\n",
        "dens_thr = 10\n",
        "\n",
        "# Perform thresholding\n",
        "for s in range(ns_f):                                                   # loop over subjects\n",
        "    fc_thr[:,:,s] = bct.threshold_proportional(fc[:,:,s],dens_thr/100)  # proportional threshold for each subject\n"
      ],
      "execution_count": null,
      "outputs": []
    },
    {
      "cell_type": "code",
      "metadata": {
        "id": "HVnGRnfPjQrK"
      },
      "source": [
        "# Initialising a variable to store mean FC\n",
        "fc_mn = np.zeros(ns_f)\n",
        "\n",
        "# Averaging each FC matrix (using the upper triangular part)\n",
        "for s in range(ns_f):\n",
        "    fc_mn[s] = np.mean(fc[:,:,s][triu_f])\n",
        "\n",
        "# Adding this variable (averaged FC marix) to the existing dataframe with subject-level data\n",
        "df = df.assign(fc_mn = fc_mn)"
      ],
      "execution_count": null,
      "outputs": []
    },
    {
      "cell_type": "code",
      "metadata": {
        "colab": {
          "base_uri": "https://localhost:8080/"
        },
        "id": "k3Df7SV-HSe1",
        "outputId": "e993564a-0ebf-4b95-873c-aa6e9088a99c"
      },
      "source": [
        "# Calculating graph theory metrics\n",
        "\n",
        "# Initialising empty variables in the existing dataframe\n",
        "df['eff'] = np.nan\n",
        "df['clust'] = np.nan\n",
        "\n",
        "# Looping over subjects to calculate graph measures (binary global efficiency & average clustering across nodes)\n",
        "for s in range(ns_f):\n",
        "    if s % 30 == 0: print(f\"Subject {s} of {ns_f}.\")                    # tracking progress of looping\n",
        "    # Graph measures\n",
        "    df.loc[s,'eff'] = bct.efficiency_bin(fc_thr[:,:,s])                 # binary global efficiency\n",
        "    df.loc[s,'clust'] = np.mean(bct.clustering_coef_bu(fc_thr[:,:,s]))  # average clustering across nodes"
      ],
      "execution_count": null,
      "outputs": [
        {
          "output_type": "stream",
          "text": [
            "Subject 0 of 132.\n",
            "Subject 30 of 132.\n",
            "Subject 60 of 132.\n",
            "Subject 90 of 132.\n",
            "Subject 120 of 132.\n"
          ],
          "name": "stdout"
        }
      ]
    },
    {
      "cell_type": "markdown",
      "metadata": {
        "id": "FUFQ5UjtdMiP"
      },
      "source": [
        "# III. Part (III): Prediction Modelling - XGBoost\n"
      ]
    },
    {
      "cell_type": "markdown",
      "metadata": {
        "id": "Lf8SXN9BdT_O"
      },
      "source": [
        "Developing an XGBOOST model to predict sex from the following input variables:\n",
        "\n",
        "\n",
        "*   Mean functional connectivity over 346 regions\n",
        "*   2 Graph theory metrics (binary global efficiency & average clustering across nodes)\n",
        "*   Age (continuous variable)\n",
        "*   Site (categorical variable)\n",
        "\n",
        "\n",
        "\n"
      ]
    },
    {
      "cell_type": "markdown",
      "metadata": {
        "id": "bINEoaOtdp6m"
      },
      "source": [
        "## 1. Installing Libraries and Dependencies for Part III."
      ]
    },
    {
      "cell_type": "code",
      "metadata": {
        "id": "Enla1tX2Mc5T"
      },
      "source": [
        "from sklearn.model_selection import cross_val_score,  train_test_split\n",
        "from sklearn.metrics import classification_report\n",
        "from sklearn.model_selection import train_test_split\n",
        "from sklearn.metrics import accuracy_score\n",
        "from sklearn.metrics import confusion_matrix\n",
        "from numpy import loadtxt\n",
        "import xgboost as xgb\n",
        "from xgboost.sklearn import XGBClassifier\n",
        "from sklearn.metrics import accuracy_score\n",
        "from sklearn.model_selection import RandomizedSearchCV\n",
        "from xgboost import plot_importance\n",
        "from sklearn.metrics import classification_report\n",
        "import seaborn as sns"
      ],
      "execution_count": null,
      "outputs": []
    },
    {
      "cell_type": "code",
      "metadata": {
        "id": "cavLujprYToK"
      },
      "source": [
        "# Defining Random State (for reproducibility)\n",
        "random_state=333"
      ],
      "execution_count": null,
      "outputs": []
    },
    {
      "cell_type": "markdown",
      "metadata": {
        "id": "moBf1qLBfHeM"
      },
      "source": [
        "## 2. Defining input and output variables + splitting dataset"
      ]
    },
    {
      "cell_type": "code",
      "metadata": {
        "id": "eNuWboHJKM7Z"
      },
      "source": [
        "# Input variables to be used in XGBOOST\n",
        "X = df[['eff','age','clust','fc_mn','fd']]\n",
        "# Outcome variable to be predicted using XGBOOST\n",
        "Y = df['sex_rec']\n",
        "# Splitting dataset into training (80%) and testing (20%)\n",
        "X_train, X_test, Y_train, Y_test = train_test_split(X, Y, test_size=0.2, random_state = random_state)"
      ],
      "execution_count": null,
      "outputs": []
    },
    {
      "cell_type": "markdown",
      "metadata": {
        "id": "HesI92aQfMcj"
      },
      "source": [
        "## 3. Defining hyperparameter search grids"
      ]
    },
    {
      "cell_type": "code",
      "metadata": {
        "colab": {
          "base_uri": "https://localhost:8080/"
        },
        "id": "tkN1Zp7g0AP5",
        "outputId": "2812a281-7a24-4f92-f290-dfe1c324b5dc"
      },
      "source": [
        "from collections import Counter\n",
        "# estimating the scale_pos_weight value to include in grid search.\n",
        "counter = Counter(Y)\n",
        "estimate = counter[0] / counter[1]\n",
        "print('Estimate: %.3f' % estimate)"
      ],
      "execution_count": null,
      "outputs": [
        {
          "output_type": "stream",
          "text": [
            "Estimate: 0.859\n"
          ],
          "name": "stdout"
        }
      ]
    },
    {
      "cell_type": "code",
      "metadata": {
        "id": "ckk1HO-zynFu"
      },
      "source": [
        "# Defining hyperparameter search grids\n",
        "\n",
        "## Positive Scaling (for class imbalance)\n",
        "xgb_scale_pos_weight = [int(x) for x in np.linspace(0.9,5,10)]\n",
        "\n",
        "## Number of trees to be used\n",
        "xgb_n_estimators = [int(x) for x in np.linspace(200, 2000, 10)]\n",
        "\n",
        "## Maximum number of levels in tree\n",
        "xgb_max_depth = [int(x) for x in np.linspace(2, 20, 10)]\n",
        "\n",
        "## Minimum number of instances needed in each node\n",
        "xgb_min_child_weight = [int(x) for x in np.linspace(1, 10, 10)]\n",
        "\n",
        "## Learning Rate\n",
        "xgb_eta = [x for x in np.linspace(0.1, 0.6, 6)]\n",
        "\n",
        "## Learning objective used\n",
        "xgb_objective = ['reg:logistic']\n",
        "\n",
        "## Evaluation metric used \n",
        "xgb_eval_metric = ['aucpr'] \n",
        "\n",
        "# Create the grid\n",
        "xgb_grid = {'n_estimators': xgb_n_estimators,\n",
        "            'max_depth': xgb_max_depth,\n",
        "            'min_child_weight': xgb_min_child_weight,\n",
        "            'scale_pos_weight': xgb_scale_pos_weight, \n",
        "            'eta': xgb_eta,\n",
        "            'objective': xgb_objective,\n",
        "            'eval_metric': xgb_eval_metric}\n"
      ],
      "execution_count": null,
      "outputs": []
    },
    {
      "cell_type": "markdown",
      "metadata": {
        "id": "NitIZ_VAjw7D"
      },
      "source": [
        "## 4. Model selection and evaluation"
      ]
    },
    {
      "cell_type": "code",
      "metadata": {
        "colab": {
          "base_uri": "https://localhost:8080/"
        },
        "id": "HaSavVV3ywSA",
        "outputId": "a5583abe-df93-47a6-b31a-64701e10357a"
      },
      "source": [
        "# Base model to be tuned\n",
        "xgb_base = XGBClassifier()\n",
        "\n",
        "# Cross-validated Randomised Search Model\n",
        "xgb_random = RandomizedSearchCV(estimator = xgb_base, param_distributions = xgb_grid, \n",
        "                                n_iter = 200, cv = 10, verbose = 2, \n",
        "                                random_state = random_state, n_jobs = -1)\n",
        "\n",
        "# Fitting the random search model to training data\n",
        "xgb_random.fit(X_train, Y_train.astype(int))\n",
        "\n",
        "# Best parameters from cross-validated randomised search model\n",
        "print(\"Best parameters: \")\n",
        "xgb_random.best_params_"
      ],
      "execution_count": null,
      "outputs": [
        {
          "output_type": "stream",
          "text": [
            "Fitting 10 folds for each of 200 candidates, totalling 2000 fits\n"
          ],
          "name": "stdout"
        },
        {
          "output_type": "stream",
          "text": [
            "[Parallel(n_jobs=-1)]: Using backend LokyBackend with 2 concurrent workers.\n",
            "[Parallel(n_jobs=-1)]: Done  37 tasks      | elapsed:    4.4s\n",
            "[Parallel(n_jobs=-1)]: Done 450 tasks      | elapsed:   29.7s\n",
            "[Parallel(n_jobs=-1)]: Done 1262 tasks      | elapsed:  1.4min\n"
          ],
          "name": "stderr"
        },
        {
          "output_type": "stream",
          "text": [
            "Best parameters: \n"
          ],
          "name": "stdout"
        },
        {
          "output_type": "stream",
          "text": [
            "[Parallel(n_jobs=-1)]: Done 2000 out of 2000 | elapsed:  2.2min finished\n"
          ],
          "name": "stderr"
        },
        {
          "output_type": "execute_result",
          "data": {
            "text/plain": [
              "{'eta': 0.4,\n",
              " 'eval_metric': 'aucpr',\n",
              " 'max_depth': 12,\n",
              " 'min_child_weight': 8,\n",
              " 'n_estimators': 200,\n",
              " 'objective': 'reg:logistic',\n",
              " 'scale_pos_weight': 1}"
            ]
          },
          "metadata": {
            "tags": []
          },
          "execution_count": 49
        }
      ]
    },
    {
      "cell_type": "code",
      "metadata": {
        "colab": {
          "base_uri": "https://localhost:8080/",
          "height": 452
        },
        "id": "ENIeld0wzde4",
        "outputId": "82a022e3-dc28-4a6d-9ce1-49a3c5992c1f"
      },
      "source": [
        "# Final model created using best parameters (fit to all training set)\n",
        "best_model = xgb_random.best_estimator_\n",
        "\n",
        "# Feature importance\n",
        "plot_importance(best_model, max_num_features=4)\n",
        "plt.show()\n",
        "\n",
        "# Predicting probabilities in unseen hold out test set based on final (best) model\n",
        "y_preds = best_model.predict(X_test)\n",
        "# Model evaluation on test set\n",
        "print(classification_report(y_test, y_preds))\n"
      ],
      "execution_count": null,
      "outputs": [
        {
          "output_type": "display_data",
          "data": {
            "image/png": "[encoded data removed]",
            "text/plain": [
              "<Figure size 432x288 with 1 Axes>"
            ]
          },
          "metadata": {
            "tags": [],
            "needs_background": "light"
          }
        },
        {
          "output_type": "stream",
          "text": [
            "              precision    recall  f1-score   support\n",
            "\n",
            "           0       0.56      0.42      0.48        12\n",
            "           1       0.61      0.73      0.67        15\n",
            "\n",
            "    accuracy                           0.59        27\n",
            "   macro avg       0.58      0.57      0.57        27\n",
            "weighted avg       0.59      0.59      0.58        27\n",
            "\n"
          ],
          "name": "stdout"
        }
      ]
    },
    {
      "cell_type": "code",
      "metadata": {
        "id": "PuJNP8kL706N"
      },
      "source": [
        "!apt-get install texlive texlive-xetex texlive-latex-extra pandoc\n",
        "!pip install pypandoc"
      ],
      "execution_count": null,
      "outputs": []
    }
  ]
}